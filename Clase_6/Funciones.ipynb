{
 "cells": [
  {
   "cell_type": "markdown",
   "metadata": {},
   "source": [
    "Funciones"
   ]
  },
  {
   "cell_type": "code",
   "execution_count": 2,
   "metadata": {},
   "outputs": [],
   "source": [
    "def saludo():\n",
    "    print(\"Hola alumnos de Programacion II\")"
   ]
  },
  {
   "cell_type": "code",
   "execution_count": 3,
   "metadata": {},
   "outputs": [
    {
     "name": "stdout",
     "output_type": "stream",
     "text": [
      "Hola alumnos de Programacion II\n"
     ]
    }
   ],
   "source": [
    "saludo()"
   ]
  },
  {
   "cell_type": "markdown",
   "metadata": {},
   "source": [
    "FUncion con parametros"
   ]
  },
  {
   "cell_type": "code",
   "execution_count": 5,
   "metadata": {},
   "outputs": [
    {
     "name": "stdout",
     "output_type": "stream",
     "text": [
      "Bienvenido al sistema Barbara Rigoni de edad 43 años\n"
     ]
    }
   ],
   "source": [
    "def saludo1(nombre, apellido, edad):\n",
    "    print(\"Bienvenido al sistema\", nombre, apellido, \"de edad\", edad, \"años\")\n",
    "    \n",
    "saludo1(\"Barbara\", \"Rigoni\", 43)"
   ]
  },
  {
   "cell_type": "markdown",
   "metadata": {},
   "source": [
    "Llamar la funcion con otros parametros"
   ]
  },
  {
   "cell_type": "code",
   "execution_count": 6,
   "metadata": {},
   "outputs": [
    {
     "name": "stdout",
     "output_type": "stream",
     "text": [
      "Bienvenido al sistema Gonzalo Pimentel de edad 43 años\n"
     ]
    }
   ],
   "source": [
    "saludo1(\"Gonzalo\", \"Pimentel\", 43)"
   ]
  },
  {
   "cell_type": "markdown",
   "metadata": {},
   "source": [
    "Excepcion, cuando me faltan parametros al completar."
   ]
  },
  {
   "cell_type": "markdown",
   "metadata": {},
   "source": [
    "Parametro con valor por defecto"
   ]
  },
  {
   "cell_type": "code",
   "execution_count": 7,
   "metadata": {},
   "outputs": [],
   "source": [
    "def division(dividendo=15):\n",
    "    divisor=3\n",
    "    return dividendo/divisor"
   ]
  },
  {
   "cell_type": "code",
   "execution_count": 8,
   "metadata": {},
   "outputs": [
    {
     "data": {
      "text/plain": [
       "5.0"
      ]
     },
     "execution_count": 8,
     "metadata": {},
     "output_type": "execute_result"
    }
   ],
   "source": [
    "division()"
   ]
  },
  {
   "cell_type": "code",
   "execution_count": 9,
   "metadata": {},
   "outputs": [
    {
     "data": {
      "text/plain": [
       "15.0"
      ]
     },
     "execution_count": 9,
     "metadata": {},
     "output_type": "execute_result"
    }
   ],
   "source": [
    "division(45)"
   ]
  },
  {
   "cell_type": "code",
   "execution_count": 11,
   "metadata": {},
   "outputs": [],
   "source": [
    "#tipo de datos explicitos para los parametros\n",
    "def operacion1(num,num1):\n",
    "    return num * num1"
   ]
  },
  {
   "cell_type": "code",
   "execution_count": 12,
   "metadata": {},
   "outputs": [
    {
     "data": {
      "text/plain": [
       "150"
      ]
     },
     "execution_count": 12,
     "metadata": {},
     "output_type": "execute_result"
    }
   ],
   "source": [
    "operacion1(10,15)"
   ]
  },
  {
   "cell_type": "code",
   "execution_count": 13,
   "metadata": {},
   "outputs": [
    {
     "name": "stdout",
     "output_type": "stream",
     "text": [
      "el resultado es menor\n"
     ]
    }
   ],
   "source": [
    "#almacenar el resultado en una variable para seguir trabajando con mi resultado\n",
    "\n",
    "resultado = operacion1(7,5)\n",
    "\n",
    "if resultado>40:\n",
    "    print(\"el resultado es mayor\")\n",
    "else:\n",
    "    print(\"el resultado es menor\")"
   ]
  },
  {
   "cell_type": "code",
   "execution_count": 1,
   "metadata": {},
   "outputs": [],
   "source": [
    "#Crear una funcion con datos adentro y que los retorne a todos\n",
    "\n",
    "def obtener_datos_persona():\n",
    "    nombre=\"Gonzalo\"\n",
    "    apellido=\"Pimentel\"\n",
    "    edad = 44\n",
    "    domicilio =\"Calle 123\"\n",
    "    return nombre,apellido,edad,domicilio\n"
   ]
  },
  {
   "cell_type": "code",
   "execution_count": 2,
   "metadata": {},
   "outputs": [
    {
     "name": "stdout",
     "output_type": "stream",
     "text": [
      "('Gonzalo', 'Pimentel', 44, 'Calle 123')\n",
      "<class 'tuple'>\n"
     ]
    }
   ],
   "source": [
    "persona=obtener_datos_persona()\n",
    "print(persona)\n",
    "print(type(persona))"
   ]
  },
  {
   "cell_type": "code",
   "execution_count": 3,
   "metadata": {},
   "outputs": [],
   "source": [
    "nombre,apellido,edad,domicilio=persona"
   ]
  },
  {
   "cell_type": "code",
   "execution_count": 7,
   "metadata": {},
   "outputs": [
    {
     "name": "stdout",
     "output_type": "stream",
     "text": [
      "El nombre ingresado es Gonzalo\n",
      "El apellido ingresado es Pimentel\n"
     ]
    }
   ],
   "source": [
    "#desacoplar la tupla\n",
    "print(f\"El nombre ingresado es {nombre}\")\n",
    "print(f\"El apellido ingresado es {apellido}\")"
   ]
  },
  {
   "cell_type": "code",
   "execution_count": 10,
   "metadata": {},
   "outputs": [
    {
     "name": "stdout",
     "output_type": "stream",
     "text": [
      "Usted es mayor de edad. Usted tiene 44 años\n"
     ]
    }
   ],
   "source": [
    "#validacion\n",
    "\n",
    "if edad > 18:\n",
    "    print(f\"Usted es mayor de edad. Usted tiene {edad} años\")\n",
    "else:\n",
    "    print(\"Usted es menor de edad\")"
   ]
  },
  {
   "cell_type": "code",
   "execution_count": 12,
   "metadata": {},
   "outputs": [
    {
     "name": "stdout",
     "output_type": "stream",
     "text": [
      "Su domicilio actual registrado en nuestra base de datos es Calle 123. \n"
     ]
    }
   ],
   "source": [
    "print(f\"Su domicilio actual registrado en nuestra base de datos es {domicilio}.\")"
   ]
  },
  {
   "cell_type": "code",
   "execution_count": 13,
   "metadata": {},
   "outputs": [],
   "source": [
    "#Definir par de clave valor\n",
    "def dato_persona(nombre, apellido):\n",
    "    print(\"Hola\", nombre, apellido)"
   ]
  },
  {
   "cell_type": "code",
   "execution_count": 14,
   "metadata": {},
   "outputs": [
    {
     "name": "stdout",
     "output_type": "stream",
     "text": [
      "Hola Barbara Rigoni\n"
     ]
    }
   ],
   "source": [
    "dato_persona(\"Barbara\", \"Rigoni\")"
   ]
  },
  {
   "cell_type": "code",
   "execution_count": 15,
   "metadata": {},
   "outputs": [
    {
     "name": "stdout",
     "output_type": "stream",
     "text": [
      "Hola Barbara Rigoni\n"
     ]
    }
   ],
   "source": [
    "dato_persona(apellido=\"Rigoni\", nombre=\"Barbara\")"
   ]
  },
  {
   "cell_type": "code",
   "execution_count": null,
   "metadata": {},
   "outputs": [],
   "source": [
    "#Crear funcion vacia con la palabra reservada pass para usar en otro momento\n",
    "def saludo():\n",
    "    pass"
   ]
  },
  {
   "cell_type": "markdown",
   "metadata": {},
   "source": [
    "*args (tupla de argumentos sin problema), **kwargs(recibirlos en forma de clave-valor)\n",
    "cuantos parametros vamos a necesitar?"
   ]
  },
  {
   "cell_type": "code",
   "execution_count": 16,
   "metadata": {},
   "outputs": [
    {
     "name": "stdout",
     "output_type": "stream",
     "text": [
      "args:(), kwargs:{}\n"
     ]
    }
   ],
   "source": [
    "def mi_funcion(*args, **kwargs):\n",
    "    print(f\"args:{args}, kwargs:{kwargs}\")\n",
    "    \n",
    "mi_funcion()"
   ]
  },
  {
   "cell_type": "code",
   "execution_count": 17,
   "metadata": {},
   "outputs": [
    {
     "name": "stdout",
     "output_type": "stream",
     "text": [
      "args:(42,), kwargs:{}\n",
      "args:(), kwargs:{'vehiculo': 'coche'}\n",
      "args:(345, 'Juan'), kwargs:{'modo': 'vuelo', 'flag': 'activado'}\n",
      "args:(), kwargs:{'nombre': 'Barbara', 'apellido': 'Rigoni', 'edad': 45, 'profesion': 'Estudiante'}\n"
     ]
    }
   ],
   "source": [
    "mi_funcion(42)\n",
    "mi_funcion(vehiculo = \"coche\")\n",
    "mi_funcion(345, \"Juan\", modo=\"vuelo\", flag=\"activado\")\n",
    "mi_funcion(nombre= \"Barbara\", apellido = \"Rigoni\", edad = 45, profesion = \"Estudiante\")"
   ]
  },
  {
   "cell_type": "code",
   "execution_count": 19,
   "metadata": {},
   "outputs": [
    {
     "name": "stdout",
     "output_type": "stream",
     "text": [
      "10\n"
     ]
    }
   ],
   "source": [
    "def sumar(*tupla1):\n",
    "    total = 0\n",
    "    for  i in tupla1:\n",
    "        total += i\n",
    "    return total\n",
    "\n",
    "#Llamada a la funcion con argumentos posicionales\n",
    "\n",
    "resultado = sumar(1,2,3,4)\n",
    "print(resultado) "
   ]
  },
  {
   "cell_type": "code",
   "execution_count": 21,
   "metadata": {},
   "outputs": [
    {
     "name": "stdout",
     "output_type": "stream",
     "text": [
      "10240\n"
     ]
    }
   ],
   "source": [
    "#llamo a la funcion con otra variable\n",
    "resultado2 = sumar(30,40,70,100,1000,5000,4000)\n",
    "print(resultado2)"
   ]
  },
  {
   "cell_type": "code",
   "execution_count": 23,
   "metadata": {},
   "outputs": [
    {
     "name": "stdout",
     "output_type": "stream",
     "text": [
      "nombre:Juan\n",
      "apellido:Perez\n"
     ]
    }
   ],
   "source": [
    "def mostrar_informacion(**kwargs):\n",
    "    for clave, valor in kwargs.items():\n",
    "        print(clave + \":\" + valor)\n",
    "        \n",
    "#llamada a la funcion con argumentos clave-valor\n",
    "\n",
    "mostrar_informacion(nombre=\"Juan\", apellido=\"Perez\")"
   ]
  },
  {
   "cell_type": "code",
   "execution_count": 1,
   "metadata": {},
   "outputs": [],
   "source": [
    "#La funcion recursiva se va llamando a si misma\n",
    "def sumar_recursivo(elemento, acumulador=0):\n",
    "    if elemento == 0:\n",
    "        return acumulador\n",
    "    else:\n",
    "        acumulador+=elemento\n",
    "        return sumar_recursivo(elemento - 1, acumulador)"
   ]
  },
  {
   "cell_type": "code",
   "execution_count": 2,
   "metadata": {},
   "outputs": [
    {
     "data": {
      "text/plain": [
       "15"
      ]
     },
     "execution_count": 2,
     "metadata": {},
     "output_type": "execute_result"
    }
   ],
   "source": [
    "sumar_recursivo(5)"
   ]
  },
  {
   "cell_type": "code",
   "execution_count": 5,
   "metadata": {},
   "outputs": [
    {
     "data": {
      "text/plain": [
       "100"
      ]
     },
     "execution_count": 5,
     "metadata": {},
     "output_type": "execute_result"
    }
   ],
   "source": [
    "#Funciones lambda o funcion anonima (unica expresion)\n",
    "\n",
    "numero_x_3 = lambda x,a: x*a\n",
    "numero_x_3(10,10)"
   ]
  },
  {
   "cell_type": "markdown",
   "metadata": {},
   "source": [
    "¿Por que utilizar funciones Lambda? El poder de lambda se muestra mejor cuando  se utiliza como una funcion anonima dentro de otra funcion.\n",
    "DIgamos que tienes una definicion de funcion que toma un argumento y ese argumento se multiplicará por un numero desconocido: "
   ]
  },
  {
   "cell_type": "code",
   "execution_count": 6,
   "metadata": {},
   "outputs": [
    {
     "name": "stdout",
     "output_type": "stream",
     "text": [
      "22\n"
     ]
    }
   ],
   "source": [
    "def myfunc(n):\n",
    "    return lambda a: a*n\n",
    "\n",
    "#ejemplo\n",
    "def myfunc(n):\n",
    "    return lambda a : a*n\n",
    "duplica = myfunc(2)\n",
    "\n",
    "print(duplica(11))\n"
   ]
  },
  {
   "cell_type": "code",
   "execution_count": 7,
   "metadata": {},
   "outputs": [],
   "source": [
    "suma_numeros = lambda num, num1: num+num1\n"
   ]
  },
  {
   "cell_type": "code",
   "execution_count": 8,
   "metadata": {},
   "outputs": [
    {
     "name": "stdout",
     "output_type": "stream",
     "text": [
      "15\n"
     ]
    }
   ],
   "source": [
    "print(suma_numeros(10,5))"
   ]
  },
  {
   "cell_type": "code",
   "execution_count": 9,
   "metadata": {},
   "outputs": [],
   "source": [
    "def f_numero_x_3(x):\n",
    "    return x*3"
   ]
  },
  {
   "cell_type": "code",
   "execution_count": 10,
   "metadata": {},
   "outputs": [
    {
     "name": "stdout",
     "output_type": "stream",
     "text": [
      "30\n"
     ]
    }
   ],
   "source": [
    "resultado = (f_numero_x_3(10))\n",
    "print(resultado)"
   ]
  },
  {
   "cell_type": "code",
   "execution_count": 11,
   "metadata": {},
   "outputs": [],
   "source": [
    "#Funcion dentro de otra funcion\n",
    "def telefono_con_prefijo(prefijo_pais):\n",
    "    def f_telefono(numero_telefono):\n",
    "        return f' +{prefijo_pais}{numero_telefono}'\n",
    "    return f_telefono"
   ]
  },
  {
   "cell_type": "code",
   "execution_count": 12,
   "metadata": {},
   "outputs": [
    {
     "data": {
      "text/plain": [
       "' +544447892'"
      ]
     },
     "execution_count": 12,
     "metadata": {},
     "output_type": "execute_result"
    }
   ],
   "source": [
    "telefono_argentina = telefono_con_prefijo(54)\n",
    "telefono_argentina(4447892)"
   ]
  },
  {
   "cell_type": "code",
   "execution_count": 13,
   "metadata": {},
   "outputs": [
    {
     "name": "stdout",
     "output_type": "stream",
     "text": [
      "30\n",
      "50\n",
      "100\n"
     ]
    }
   ],
   "source": [
    "#se utiliza return para devolver un resultado en la funcion\n",
    "\n",
    "def mi_funcion(numero):\n",
    "    return 10 * numero\n",
    "\n",
    "print(mi_funcion(3))\n",
    "print(mi_funcion(5))\n",
    "print(mi_funcion(10))"
   ]
  },
  {
   "cell_type": "markdown",
   "metadata": {},
   "source": [
    "Alcance de las variables. Locales y globales:\n",
    "Global, esta fuera de cualquier funcion\n",
    "Local, esta dentro de mi funcion"
   ]
  },
  {
   "cell_type": "code",
   "execution_count": 14,
   "metadata": {},
   "outputs": [],
   "source": [
    "#funcion sin contenido\n",
    "def mi_funcion():\n",
    "    pass"
   ]
  },
  {
   "cell_type": "code",
   "execution_count": 17,
   "metadata": {},
   "outputs": [
    {
     "data": {
      "text/plain": [
       "30"
      ]
     },
     "execution_count": 17,
     "metadata": {},
     "output_type": "execute_result"
    }
   ],
   "source": [
    "variable_global = 20\n",
    "def mi_funcion(numero):\n",
    "    return numero + variable_global\n",
    "\n",
    "mi_funcion(10)"
   ]
  },
  {
   "cell_type": "code",
   "execution_count": null,
   "metadata": {},
   "outputs": [],
   "source": [
    "\"\"\"Se produce un error al intentar modificar la variable global dentro del cuerpo de la funcion sin utilizar la palabra global\"\"\"\n",
    "\n",
    "def mi_funcion(numero):\n",
    "    variable_global+=10\n",
    "    return numero + variable_global\n",
    "mi_funcion(10)"
   ]
  },
  {
   "cell_type": "markdown",
   "metadata": {},
   "source": [
    "Como permitir modificar una variable global dentro de la funcion?\n",
    "Utilizar la palabra reservada \"Global\""
   ]
  },
  {
   "cell_type": "code",
   "execution_count": 19,
   "metadata": {},
   "outputs": [
    {
     "data": {
      "text/plain": [
       "50"
      ]
     },
     "execution_count": 19,
     "metadata": {},
     "output_type": "execute_result"
    }
   ],
   "source": [
    "#defino con global la variable global y la puedo incrementar\n",
    "def mi_funcion(numero):\n",
    "    global variable_global\n",
    "    variable_global += 20\n",
    "    return numero + variable_global\n",
    "\n",
    "mi_funcion(10)"
   ]
  },
  {
   "cell_type": "code",
   "execution_count": 35,
   "metadata": {},
   "outputs": [],
   "source": [
    "#Ejemplo de variable dentro y fuera\n",
    "\n",
    "nombre = \"Barbara\"\n",
    "def saludo():\n",
    "    nombre=\"Juan\"\n",
    "    print(\"Hola, soy \" + nombre)"
   ]
  },
  {
   "cell_type": "code",
   "execution_count": 36,
   "metadata": {},
   "outputs": [
    {
     "name": "stdout",
     "output_type": "stream",
     "text": [
      "Hola, soy Juan\n"
     ]
    }
   ],
   "source": [
    "saludo()"
   ]
  },
  {
   "cell_type": "code",
   "execution_count": 37,
   "metadata": {},
   "outputs": [
    {
     "name": "stdout",
     "output_type": "stream",
     "text": [
      "Barbara\n"
     ]
    }
   ],
   "source": [
    "print(nombre)"
   ]
  },
  {
   "cell_type": "code",
   "execution_count": 38,
   "metadata": {},
   "outputs": [],
   "source": [
    "#Ejemplo de modificar la variable dentro de la funcion con el ejemplo anterior, usando la palabra reservada global\n",
    "\n",
    "nombre = \"Barbara\"\n",
    "def saludo():\n",
    "    global nombre\n",
    "    nombre=\"Juan\"\n",
    "    print(\"Hola, soy \" + nombre)"
   ]
  },
  {
   "cell_type": "code",
   "execution_count": 39,
   "metadata": {},
   "outputs": [
    {
     "name": "stdout",
     "output_type": "stream",
     "text": [
      "Hola, soy Juan\n"
     ]
    }
   ],
   "source": [
    "saludo()"
   ]
  },
  {
   "cell_type": "code",
   "execution_count": 40,
   "metadata": {},
   "outputs": [
    {
     "name": "stdout",
     "output_type": "stream",
     "text": [
      "Juan\n"
     ]
    }
   ],
   "source": [
    "print(nombre)"
   ]
  },
  {
   "cell_type": "code",
   "execution_count": 41,
   "metadata": {},
   "outputs": [],
   "source": [
    "def suma_pares(elementos):\n",
    "    \"\"\"Suma elementos pares encontrados en elementos\n",
    "    :parametro elementos: Lista de numeros por sumar\n",
    "    :return integer: numero resultante de la suma de los pares\"\"\"\n",
    "    suma=0\n",
    "    for pares in elementos:\n",
    "        if pares %2==0:\n",
    "            suma +=pares\n",
    "    return suma\n"
   ]
  },
  {
   "cell_type": "code",
   "execution_count": 42,
   "metadata": {},
   "outputs": [
    {
     "name": "stdout",
     "output_type": "stream",
     "text": [
      "Help on function suma_pares in module __main__:\n",
      "\n",
      "suma_pares(elementos)\n",
      "    Suma elementos pares encontrados en elementos\n",
      "    :parametro elementos: Lista de numeros por sumar\n",
      "    :return integer: numero resultante de la suma de los pares\n",
      "\n"
     ]
    }
   ],
   "source": [
    "help(suma_pares)\n"
   ]
  },
  {
   "cell_type": "code",
   "execution_count": 44,
   "metadata": {},
   "outputs": [],
   "source": [
    "def sumar(a: int, b: int) -> int:\n",
    "    resultado = a+b\n",
    "    return resultado"
   ]
  },
  {
   "cell_type": "code",
   "execution_count": 45,
   "metadata": {},
   "outputs": [
    {
     "name": "stdout",
     "output_type": "stream",
     "text": [
      "8.8\n"
     ]
    }
   ],
   "source": [
    "resultado = sumar(5.3, 3.5)\n",
    "print(resultado)"
   ]
  }
 ],
 "metadata": {
  "kernelspec": {
   "display_name": "Python 3",
   "language": "python",
   "name": "python3"
  },
  "language_info": {
   "codemirror_mode": {
    "name": "ipython",
    "version": 3
   },
   "file_extension": ".py",
   "mimetype": "text/x-python",
   "name": "python",
   "nbconvert_exporter": "python",
   "pygments_lexer": "ipython3",
   "version": "3.12.3"
  }
 },
 "nbformat": 4,
 "nbformat_minor": 2
}
