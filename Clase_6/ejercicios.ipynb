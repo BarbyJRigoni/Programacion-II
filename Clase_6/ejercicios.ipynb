{
 "cells": [
  {
   "cell_type": "markdown",
   "metadata": {},
   "source": [
    "1. Crear una función llamada “usuario” que reciba como parámetro un\n",
    "nombre y devuelva un mensaje “Bienvenido al sistema {nombre}”"
   ]
  },
  {
   "cell_type": "code",
   "execution_count": 1,
   "metadata": {},
   "outputs": [
    {
     "name": "stdout",
     "output_type": "stream",
     "text": [
      "Bienvenido al sistema Barby\n"
     ]
    }
   ],
   "source": [
    "def usuario(nombre):\n",
    "    print(f'Bienvenido al sistema {nombre}')\n",
    "    \n",
    "usuario('Barby')\n"
   ]
  },
  {
   "cell_type": "markdown",
   "metadata": {},
   "source": [
    "3. Escribe una función que tome dos números como parametros y\n",
    "devuelva su suma."
   ]
  },
  {
   "cell_type": "code",
   "execution_count": 2,
   "metadata": {},
   "outputs": [
    {
     "data": {
      "text/plain": [
       "4"
      ]
     },
     "execution_count": 2,
     "metadata": {},
     "output_type": "execute_result"
    }
   ],
   "source": [
    "def suma(n, n1):\n",
    "    return n + n1"
   ]
  },
  {
   "cell_type": "code",
   "execution_count": 3,
   "metadata": {},
   "outputs": [
    {
     "name": "stdout",
     "output_type": "stream",
     "text": [
      "3000\n"
     ]
    }
   ],
   "source": [
    "resultado = suma(700,2300)\n",
    "print(resultado)"
   ]
  },
  {
   "cell_type": "markdown",
   "metadata": {},
   "source": [
    "4. Crea una función que reciba dos números y una operación (suma,\n",
    "resta, multiplicación, división) y devuelva el resultado."
   ]
  },
  {
   "cell_type": "code",
   "execution_count": 10,
   "metadata": {},
   "outputs": [],
   "source": [
    "def oper(n, n1, op):\n",
    "    if op == 1:\n",
    "        return n + n1\n",
    "    elif op ==2:\n",
    "        return n - n1\n",
    "    elif op == 3:\n",
    "        return n * n1\n",
    "    elif op == 4:\n",
    "        return n / n1\n",
    "    else:\n",
    "        return 'Operacion Invalida'"
   ]
  },
  {
   "cell_type": "code",
   "execution_count": 13,
   "metadata": {},
   "outputs": [
    {
     "name": "stdout",
     "output_type": "stream",
     "text": [
      "Seleccion una operacion \n",
      " 1-suma, 2-resta, 3-multi, 4-div\n",
      "-5\n"
     ]
    }
   ],
   "source": [
    "n = int(input(\"Ingrese el primer numero\"))\n",
    "n1 = int(input(\"Ingrese el segundo numero\"))\n",
    "print(\"Seleccion una operacion \\n 1-suma, 2-resta, 3-multi, 4-div\")\n",
    "op=int(input(\"Elija una operacion\"))\n",
    "resultado=oper(n,n1,op)\n",
    "print(resultado)"
   ]
  },
  {
   "cell_type": "markdown",
   "metadata": {},
   "source": [
    "5. Conversor de moneda: Crea una función que convierta de pesos a\n",
    "dólares, que reciba como parámetro la cantidad de pesos y el valor\n",
    "del dólar y devuelva la cantidad de dólares.\n"
   ]
  },
  {
   "cell_type": "code",
   "execution_count": 16,
   "metadata": {},
   "outputs": [
    {
     "name": "stdout",
     "output_type": "stream",
     "text": [
      "100000 pesos son 88.65 dólares.\n"
     ]
    }
   ],
   "source": [
    "def convertir_a_dolares(cantidad_pesos, valor_dolar):\n",
    "    cantidad_dolares = cantidad_pesos / valor_dolar\n",
    "    return cantidad_dolares\n",
    "\n",
    "# Ejemplo de uso\n",
    "pesos = 100000\n",
    "valor_dolar = 1128\n",
    "dolares = convertir_a_dolares(pesos, valor_dolar)\n",
    "print(f\"{pesos} pesos son {dolares:.2f} dólares.\")\n"
   ]
  },
  {
   "cell_type": "markdown",
   "metadata": {},
   "source": [
    "6. Escribe una función que tome una lista de números como argumento\n",
    "y devuelva la suma de los números positivos y la suma de los\n",
    "números negativos en una tupla"
   ]
  },
  {
   "cell_type": "code",
   "execution_count": 17,
   "metadata": {},
   "outputs": [
    {
     "name": "stdout",
     "output_type": "stream",
     "text": [
      "Suma de positivos: 21, Suma de negativos: -8\n"
     ]
    }
   ],
   "source": [
    "def suma_positivos_y_negativos(numeros):\n",
    "    suma_positivos = sum(num for num in numeros if num > 0)\n",
    "    suma_negativos = sum(num for num in numeros if num < 0)\n",
    "    return (suma_positivos, suma_negativos)\n",
    "\n",
    "# Ejemplo de uso\n",
    "lista_numeros = [10, -5, 3, -2, 8, -1]\n",
    "resultado = suma_positivos_y_negativos(lista_numeros)\n",
    "print(f\"Suma de positivos: {resultado[0]}, Suma de negativos: {resultado[1]}\")\n"
   ]
  },
  {
   "cell_type": "markdown",
   "metadata": {},
   "source": [
    "7. Crear una función que reciba un número como parámetro y devuelva\n",
    "True si es primo y False si no lo es."
   ]
  },
  {
   "cell_type": "code",
   "execution_count": 18,
   "metadata": {},
   "outputs": [
    {
     "name": "stdout",
     "output_type": "stream",
     "text": [
      "¿Es 17 primo? True\n"
     ]
    }
   ],
   "source": [
    "def es_primo(numero):\n",
    "    if numero <= 1:\n",
    "        return False\n",
    "    for i in range(2, int(numero**0.5) + 1):\n",
    "        if numero % i == 0:\n",
    "            return False\n",
    "    return True\n",
    "\n",
    "# Ejemplo de uso\n",
    "numero = 17\n",
    "resultado = es_primo(numero)\n",
    "print(f\"¿Es {numero} primo? {resultado}\")\n"
   ]
  },
  {
   "cell_type": "markdown",
   "metadata": {},
   "source": [
    "8. Escribe una función que tome una lista de números como argumento\n",
    "y devuelva el número más grande y el número más pequeño en una\n",
    "tupla."
   ]
  },
  {
   "cell_type": "code",
   "execution_count": 19,
   "metadata": {},
   "outputs": [
    {
     "name": "stdout",
     "output_type": "stream",
     "text": [
      "El número más grande es 10 y el número más pequeño es -5.\n"
     ]
    }
   ],
   "source": [
    "def numero_max_min(lista_numeros):\n",
    "    numero_max = max(lista_numeros)\n",
    "    numero_min = min(lista_numeros)\n",
    "    return (numero_max, numero_min)\n",
    "\n",
    "# Ejemplo de uso\n",
    "lista = [10, -5, 3, -2, 8, -1]\n",
    "resultado = numero_max_min(lista)\n",
    "print(f\"El número más grande es {resultado[0]} y el número más pequeño es {resultado[1]}.\")\n"
   ]
  }
 ],
 "metadata": {
  "kernelspec": {
   "display_name": "Python 3",
   "language": "python",
   "name": "python3"
  },
  "language_info": {
   "codemirror_mode": {
    "name": "ipython",
    "version": 3
   },
   "file_extension": ".py",
   "mimetype": "text/x-python",
   "name": "python",
   "nbconvert_exporter": "python",
   "pygments_lexer": "ipython3",
   "version": "3.12.3"
  }
 },
 "nbformat": 4,
 "nbformat_minor": 2
}
