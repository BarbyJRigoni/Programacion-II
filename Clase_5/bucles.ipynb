{
 "cells": [
  {
   "cell_type": "markdown",
   "metadata": {},
   "source": [
    "Estructuras de control a traves de bucles:\n",
    "Ciclo For in\n",
    "Ciclo While\n",
    "Break\n",
    "Continue"
   ]
  },
  {
   "cell_type": "code",
   "execution_count": 3,
   "metadata": {},
   "outputs": [
    {
     "name": "stdout",
     "output_type": "stream",
     "text": [
      "rojo\n",
      "amarillo\n",
      "violeta\n",
      "El color ahora es igual a  rojo\n",
      "El color ahora es igual a  gris\n",
      "El color ahora es igual a  amarillo\n",
      "El color ahora es igual a  verde\n",
      "El color ahora es igual a  marron\n",
      "El color ahora es igual a  violeta\n",
      "El color ahora es igual a  azul\n"
     ]
    }
   ],
   "source": [
    "# Itinerar lista con For\n",
    "\n",
    "colores = ['rojo', 'amarillo', 'verde', 'marron', 'violeta']\n",
    "\n",
    "print(colores[0])\n",
    "print(colores[1])\n",
    "print(colores[4])\n",
    "\n",
    "colores.append(\"azul\")\n",
    "colores.insert(1, \"gris\")\n",
    "\n",
    "# ver cambios #print(colores)\n",
    "\n",
    "for p in colores:\n",
    "    print(f\"El color ahora es igual a  {p}\")\n"
   ]
  },
  {
   "cell_type": "code",
   "execution_count": 4,
   "metadata": {},
   "outputs": [
    {
     "name": "stdout",
     "output_type": "stream",
     "text": [
      "0\n",
      "5\n",
      "10\n",
      "15\n",
      "20\n",
      "25\n",
      "30\n",
      "35\n",
      "40\n",
      "45\n",
      "50\n",
      "55\n",
      "60\n",
      "65\n",
      "70\n",
      "75\n",
      "80\n",
      "85\n",
      "90\n",
      "95\n",
      "100\n",
      "105\n",
      "110\n",
      "115\n",
      "120\n",
      "125\n",
      "130\n",
      "135\n",
      "140\n",
      "145\n",
      "150\n",
      "155\n",
      "160\n",
      "165\n",
      "170\n",
      "175\n",
      "180\n",
      "185\n",
      "190\n",
      "195\n"
     ]
    }
   ],
   "source": [
    "# Funcion range()\n",
    "for numero in range (0,200,5):\n",
    "    print(numero)"
   ]
  },
  {
   "cell_type": "code",
   "execution_count": 5,
   "metadata": {},
   "outputs": [
    {
     "name": "stdout",
     "output_type": "stream",
     "text": [
      "7\n"
     ]
    }
   ],
   "source": [
    "# Ver rango en la lista de colores\n",
    "print(len(colores))"
   ]
  },
  {
   "cell_type": "code",
   "execution_count": 8,
   "metadata": {},
   "outputs": [
    {
     "name": "stdout",
     "output_type": "stream",
     "text": [
      "El elemento en la posicion 0 de mi lista colores es:  rojo\n",
      "El elemento en la posicion 1 de mi lista colores es:  gris\n",
      "El elemento en la posicion 2 de mi lista colores es:  amarillo\n"
     ]
    }
   ],
   "source": [
    "for item in range(0,3):\n",
    "    print(f\"El elemento en la posicion {item} de mi lista colores es:  {colores[item]}\")\n"
   ]
  },
  {
   "cell_type": "code",
   "execution_count": 9,
   "metadata": {},
   "outputs": [
    {
     "name": "stdout",
     "output_type": "stream",
     "text": [
      "(0, 'rojo')\n",
      "(1, 'gris')\n",
      "(2, 'amarillo')\n",
      "(3, 'verde')\n",
      "(4, 'marron')\n",
      "(5, 'violeta')\n",
      "(6, 'azul')\n"
     ]
    }
   ],
   "source": [
    "# Forma de recorrer una lista a traves ed su indice. (me da la posicion y la tupla con el indice)\n",
    "for color in enumerate(colores):\n",
    "    print(color)"
   ]
  },
  {
   "cell_type": "code",
   "execution_count": 10,
   "metadata": {},
   "outputs": [
    {
     "name": "stdout",
     "output_type": "stream",
     "text": [
      "Barbara\n",
      "Rigoni\n",
      "43\n",
      "Estudiante\n",
      "True\n",
      "['Rock', 'Folcklore', 'Clasicos']\n",
      "{'marca': 'fiat', 'modelo': 'Argo', 'anio': 2019}\n"
     ]
    }
   ],
   "source": [
    "# Recorriendo un diccionario clave-valor\n",
    "persona = {\"nombre\": \"Barbara\",\n",
    "           \"apellido\": \"Rigoni\",\n",
    "           \"edad\": 43,\n",
    "           \"profesion\": \"Estudiante\",\n",
    "           \"es_universitario\": True,\n",
    "           \"musica_favorita\": [\"Rock\", \"Folcklore\", \"Clasicos\"],\n",
    "           \"vehiculo\": {\"marca\": \"fiat\",\n",
    "                        \"modelo\": \"Argo\",\n",
    "                        \"anio\": 2019}}\n",
    "for b in persona.values():\n",
    "    print(b)"
   ]
  },
  {
   "cell_type": "code",
   "execution_count": 11,
   "metadata": {},
   "outputs": [
    {
     "name": "stdout",
     "output_type": "stream",
     "text": [
      "('nombre', 'Barbara')\n",
      "('apellido', 'Rigoni')\n",
      "('edad', 43)\n",
      "('profesion', 'Estudiante')\n",
      "('es_universitario', True)\n",
      "('musica_favorita', ['Rock', 'Folcklore', 'Clasicos'])\n",
      "('vehiculo', {'marca': 'fiat', 'modelo': 'Argo', 'anio': 2019})\n"
     ]
    }
   ],
   "source": [
    "for b in persona.items():\n",
    "    print(b)"
   ]
  },
  {
   "cell_type": "code",
   "execution_count": 12,
   "metadata": {},
   "outputs": [
    {
     "name": "stdout",
     "output_type": "stream",
     "text": [
      "nombre\n",
      "apellido\n",
      "edad\n",
      "profesion\n",
      "es_universitario\n",
      "musica_favorita\n",
      "vehiculo\n"
     ]
    }
   ],
   "source": [
    "for b in persona.keys():\n",
    "    print(b)"
   ]
  },
  {
   "cell_type": "code",
   "execution_count": 13,
   "metadata": {},
   "outputs": [
    {
     "name": "stdout",
     "output_type": "stream",
     "text": [
      "nombre\n",
      "apellido\n",
      "edad\n",
      "profesion\n",
      "es_universitario\n",
      "musica_favorita\n",
      "vehiculo\n"
     ]
    }
   ],
   "source": [
    "# Otra variable\n",
    "for key in persona:\n",
    "    print(key)"
   ]
  },
  {
   "cell_type": "code",
   "execution_count": 14,
   "metadata": {},
   "outputs": [
    {
     "name": "stdout",
     "output_type": "stream",
     "text": [
      "{'marca': 'fiat', 'modelo': 'Argo', 'anio': 2019}\n"
     ]
    }
   ],
   "source": [
    "print(persona[\"vehiculo\"])"
   ]
  },
  {
   "cell_type": "code",
   "execution_count": 15,
   "metadata": {},
   "outputs": [
    {
     "name": "stdout",
     "output_type": "stream",
     "text": [
      "Voy a comer una banana\n",
      "Voy a comer una manzana\n",
      "Voy a comer una kiwi\n",
      "Voy a comer una uva\n"
     ]
    }
   ],
   "source": [
    "# Cambiar el flujo normal de un ciclo con contine\n",
    "frutas_2 = [\"banana\", \"manzana\", \"kiwi\", \"pera\", \"ciruela\", \"uva\"]\n",
    "for fruta in frutas_2:\n",
    "    if fruta == \"ciruela\" or fruta == \"pera\":\n",
    "        continue\n",
    "    print(f\"Voy a comer una {fruta}\")"
   ]
  },
  {
   "cell_type": "code",
   "execution_count": 16,
   "metadata": {},
   "outputs": [
    {
     "name": "stdout",
     "output_type": "stream",
     "text": [
      "Voy a comer una banana\n",
      "Voy a comer una manzana\n",
      "Voy a comer una kiwi\n",
      "Voy a comer una pera\n"
     ]
    }
   ],
   "source": [
    "for fruta in frutas_2:\n",
    "    if fruta == \"ciruela\":\n",
    "        break\n",
    "    print(f\"Voy a comer una {fruta}\")"
   ]
  },
  {
   "cell_type": "code",
   "execution_count": 17,
   "metadata": {},
   "outputs": [
    {
     "name": "stdout",
     "output_type": "stream",
     "text": [
      "H\n",
      "o\n",
      "l\n",
      "a\n",
      " \n",
      "c\n",
      "l\n",
      "a\n",
      "s\n",
      "e\n",
      " \n",
      "d\n",
      "e\n",
      " \n",
      "p\n",
      "r\n",
      "o\n",
      "g\n",
      "r\n",
      "a\n",
      "m\n",
      "a\n",
      "c\n",
      "i\n",
      "o\n",
      "n\n",
      " \n",
      "I\n",
      "I\n"
     ]
    }
   ],
   "source": [
    "# Recorrer cadena letra a letra\n",
    "\n",
    "mi_texto = \"Hola clase de programacion II\"\n",
    "for l in mi_texto:\n",
    "    print(l)\n",
    "    "
   ]
  },
  {
   "cell_type": "code",
   "execution_count": 18,
   "metadata": {},
   "outputs": [
    {
     "name": "stdout",
     "output_type": "stream",
     "text": [
      "0\n",
      "1\n",
      "2\n",
      "3\n",
      "4\n",
      "5\n",
      "6\n",
      "7\n",
      "8\n",
      "9\n",
      "10\n"
     ]
    }
   ],
   "source": [
    "# Ciclo while (Cuando no tengo claro cuantas iteraciones voy a tener que dar)\n",
    "\n",
    "num = 0\n",
    "while num <= 10:\n",
    "    print(num)\n",
    "    num = num + 1"
   ]
  }
 ],
 "metadata": {
  "kernelspec": {
   "display_name": "Python 3",
   "language": "python",
   "name": "python3"
  },
  "language_info": {
   "codemirror_mode": {
    "name": "ipython",
    "version": 3
   },
   "file_extension": ".py",
   "mimetype": "text/x-python",
   "name": "python",
   "nbconvert_exporter": "python",
   "pygments_lexer": "ipython3",
   "version": "3.12.3"
  }
 },
 "nbformat": 4,
 "nbformat_minor": 2
}
