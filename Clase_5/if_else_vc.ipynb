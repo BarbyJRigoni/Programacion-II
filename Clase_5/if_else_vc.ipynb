{
 "cells": [
  {
   "cell_type": "markdown",
   "metadata": {},
   "source": [
    "Ejemplo utilizando if/else"
   ]
  },
  {
   "cell_type": "code",
   "execution_count": 1,
   "metadata": {},
   "outputs": [
    {
     "ename": "NameError",
     "evalue": "name 'condicion' is not defined",
     "output_type": "error",
     "traceback": [
      "\u001b[1;31m---------------------------------------------------------------------------\u001b[0m",
      "\u001b[1;31mNameError\u001b[0m                                 Traceback (most recent call last)",
      "Cell \u001b[1;32mIn[1], line 2\u001b[0m\n\u001b[0;32m      1\u001b[0m \u001b[38;5;66;03m#Ejemplo\u001b[39;00m\n\u001b[1;32m----> 2\u001b[0m \u001b[38;5;28;01mif\u001b[39;00m \u001b[43mcondicion\u001b[49m:\n\u001b[0;32m      3\u001b[0m     \u001b[38;5;28mprint\u001b[39m(\u001b[38;5;124m'\u001b[39m\u001b[38;5;124mEsto es lo que hay que hacer\u001b[39m\u001b[38;5;124m'\u001b[39m)\n\u001b[0;32m      4\u001b[0m \u001b[38;5;28;01melse\u001b[39;00m:\n",
      "\u001b[1;31mNameError\u001b[0m: name 'condicion' is not defined"
     ]
    }
   ],
   "source": [
    "#Ejemplo\n",
    "if condicion:\n",
    "    print('Esto es lo que hay que hacer')\n",
    "else:\n",
    "    print('Esto no es lo correcto')"
   ]
  },
  {
   "cell_type": "code",
   "execution_count": 2,
   "metadata": {},
   "outputs": [
    {
     "name": "stdout",
     "output_type": "stream",
     "text": [
      "Es menor de edad\n"
     ]
    }
   ],
   "source": [
    "edad=15\n",
    "if edad >= 18:\n",
    "    print('Puede acceder por ser mayor de edad')\n",
    "else:\n",
    "    print('Es menor de edad')\n"
   ]
  },
  {
   "cell_type": "markdown",
   "metadata": {},
   "source": [
    "Operadores de comparacion:  ==, !=, >, <, >=, <=, siempre me devuelve V o F."
   ]
  },
  {
   "cell_type": "markdown",
   "metadata": {},
   "source": [
    "Operadores logicos: and, or, not. And: ambos son V.  Or: al menos uno es V. Not: niega el valor de la variable."
   ]
  },
  {
   "cell_type": "markdown",
   "metadata": {},
   "source": [
    "Operadores de pertenencia: in not in\n",
    "ejemplo:"
   ]
  },
  {
   "cell_type": "code",
   "execution_count": 3,
   "metadata": {},
   "outputs": [
    {
     "name": "stdout",
     "output_type": "stream",
     "text": [
      "la letra t no se encuentra en  gonzalo\n"
     ]
    }
   ],
   "source": [
    "palabra = \"gonzalo\"\n",
    "if \"t\" in palabra:\n",
    "    print(\"la letra t se encuentra en \", palabra)\n",
    "else:\n",
    "    print(\"la letra t no se encuentra en \", palabra)"
   ]
  },
  {
   "cell_type": "code",
   "execution_count": 4,
   "metadata": {},
   "outputs": [
    {
     "name": "stdout",
     "output_type": "stream",
     "text": [
      "Puede ingresar al sistema\n"
     ]
    }
   ],
   "source": [
    "contraseña_BD = \"gpimentel123\"\n",
    "contraseña_ingresada = \"gpimentel123\"\n",
    "\n",
    "if contraseña_BD == contraseña_ingresada:\n",
    "    print(\"Puede ingresar al sistema\")\n",
    "else:\n",
    "    print(\"contraseña incorrecta, intente nuevamente\")"
   ]
  },
  {
   "cell_type": "code",
   "execution_count": 6,
   "metadata": {},
   "outputs": [
    {
     "name": "stdout",
     "output_type": "stream",
     "text": [
      "El ingreso mensual es inferior a la canasta basica\n"
     ]
    }
   ],
   "source": [
    "ingreso_mensual = 80000\n",
    "if ingreso_mensual <= 203000:\n",
    "    print(\"El ingreso mensual es inferior a la canasta basica\")\n",
    "elif ingreso_mensual >203000 and ingreso_mensual <700000:\n",
    "    print(\"El ingreso mensual es equivalente a la clase media baja\")\n",
    "elif ingreso_mensual >=700000 and ingreso_mensual < 1200000:\n",
    "    print(\"El ingreso mensual es de clase media alta\")\n",
    "elif ingreso_mensual >=1200000 and ingreso_mensual < 2500000:\n",
    "    print(\"El ingreso mensual es de clase media alta y permite algo de ahorro\")\n",
    "else:\n",
    "    print(\"Tu ingreso mensual es de clase alta y te permite vivir bien y viajar\")"
   ]
  },
  {
   "cell_type": "markdown",
   "metadata": {},
   "source": [
    "1- Ingresar dos numeros por teclado a y b. si a es mayor que b, impreimir \"Hola Politecnico Malvinas\""
   ]
  },
  {
   "cell_type": "code",
   "execution_count": 10,
   "metadata": {},
   "outputs": [
    {
     "name": "stdout",
     "output_type": "stream",
     "text": [
      "Hola Politecnico Malvinas\n"
     ]
    }
   ],
   "source": [
    "a =int(input(\"Ingrese el primer numero\"))\n",
    "b =int(input(\"Ingrese el segundo numero\"))\n",
    "\n",
    "if a > b:\n",
    "    print(\"Hola Politecnico Malvinas\")"
   ]
  },
  {
   "cell_type": "markdown",
   "metadata": {},
   "source": [
    "2- Ingresar dos numeros por teclado a y b. Si a no es igual a b, imprimir \"Hola Politecnico Malvinas\""
   ]
  },
  {
   "cell_type": "code",
   "execution_count": 12,
   "metadata": {},
   "outputs": [
    {
     "name": "stdout",
     "output_type": "stream",
     "text": [
      "Hola Politecnico Malvinas\n"
     ]
    }
   ],
   "source": [
    "a =int(input(\"Ingrese el primer numero\"))\n",
    "b =int(input(\"Ingrese el segundo numero\"))\n",
    "\n",
    "if a != b:\n",
    "    print(\"Hola Politecnico Malvinas\")"
   ]
  },
  {
   "cell_type": "markdown",
   "metadata": {},
   "source": [
    "5- Ingrese cuatro numeros por teclado a, b, c y d. Si a es igual a b, y c es igual a d, imprimir \"Hola Politecnico Malvinas\""
   ]
  },
  {
   "cell_type": "code",
   "execution_count": 13,
   "metadata": {},
   "outputs": [
    {
     "name": "stdout",
     "output_type": "stream",
     "text": [
      "Hola Politecnico Malvinas\n"
     ]
    }
   ],
   "source": [
    "a =int(input(\"Ingrese el primer numero\"))\n",
    "b =int(input(\"Ingrese el segundo numero\"))\n",
    "c =int(input(\"Ingrese el tercer numero\"))\n",
    "d =int(input(\"Ingrese el cuarto numero\"))\n",
    "\n",
    "if a == b and c == d:\n",
    "    print(\"Hola Politecnico Malvinas\")"
   ]
  },
  {
   "cell_type": "markdown",
   "metadata": {},
   "source": [
    "8- Ingresar un numero por teclado y mostrar por pantalla si es par o impar."
   ]
  },
  {
   "cell_type": "code",
   "execution_count": 15,
   "metadata": {},
   "outputs": [
    {
     "name": "stdout",
     "output_type": "stream",
     "text": [
      "El numero es impar\n"
     ]
    }
   ],
   "source": [
    "num = int(input(\"Ingrese un numero\"))\n",
    "\n",
    "if num % 2 == 0:\n",
    "    print(\"El numero es par\")\n",
    "else:\n",
    "    print(\"El numero es impar\")"
   ]
  },
  {
   "cell_type": "markdown",
   "metadata": {},
   "source": [
    "9- Ingresar por teclado 3 numeros y mostrar por pantalla el mayor de los 3."
   ]
  },
  {
   "cell_type": "code",
   "execution_count": 18,
   "metadata": {},
   "outputs": [
    {
     "name": "stdout",
     "output_type": "stream",
     "text": [
      "3\n"
     ]
    }
   ],
   "source": [
    "num1 =int(input(\"Ingrese el primer numero\"))\n",
    "num2 =int(input(\"Ingrese el segundo numero\"))\n",
    "num3 =int(input(\"Ingrese el tercer numero\"))\n",
    "\n",
    "if num1>num2 and num1>num3:\n",
    "    print(num1)\n",
    "elif  num2>num1 and num2>num3:\n",
    "    print(num2)\n",
    "else:\n",
    "    print(num3)"
   ]
  },
  {
   "cell_type": "markdown",
   "metadata": {},
   "source": [
    "10- Ingresar por teclado un nombre, si la variable nombre no es nula mostrar por pantalla 'Bienvenido' + nombre, sino mostrar 'Bienvenido Anonimo'"
   ]
  },
  {
   "cell_type": "code",
   "execution_count": 20,
   "metadata": {},
   "outputs": [
    {
     "name": "stdout",
     "output_type": "stream",
     "text": [
      "Bienvenido Barby\n"
     ]
    }
   ],
   "source": [
    "nombre = input('Ingrese un nombre')\n",
    "\n",
    "if nombre == \"\":\n",
    "    print(\"Bienvenido Anonimo\")\n",
    "else:\n",
    "    print(f\"Bienvenido {nombre}\")"
   ]
  }
 ],
 "metadata": {
  "kernelspec": {
   "display_name": "Python 3",
   "language": "python",
   "name": "python3"
  },
  "language_info": {
   "codemirror_mode": {
    "name": "ipython",
    "version": 3
   },
   "file_extension": ".py",
   "mimetype": "text/x-python",
   "name": "python",
   "nbconvert_exporter": "python",
   "pygments_lexer": "ipython3",
   "version": "3.12.3"
  }
 },
 "nbformat": 4,
 "nbformat_minor": 2
}
