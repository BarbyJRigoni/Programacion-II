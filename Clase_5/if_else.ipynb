# ejemplo utilizando if/else
if condicion:
  print('Esto es lo que hay que hacer')
else:
  print('Esto es lo que no hay que hacer')
